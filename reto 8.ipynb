{
 "cells": [
  {
   "cell_type": "markdown",
   "metadata": {},
   "source": [
    "> 1.Imprimir un listado con los números del 1 al 100 cada uno con su respectivo cuadrado.\n"
   ]
  },
  {
   "cell_type": "code",
   "execution_count": null,
   "metadata": {},
   "outputs": [],
   "source": [
    "for i in range (1,101) :\n",
    "\tcuadrado = i**2\n",
    "\tprint (f\"el cuadrado de {i} es {cuadrado}\")\n",
    "\ti+=1\n",
    "  "
   ]
  },
  {
   "cell_type": "markdown",
   "metadata": {},
   "source": [
    ">2.Imprimir un listado con los números impares desde 1 hasta 999 y seguidamente otro listado con los números pares desde 2 hasta 1000.\n"
   ]
  },
  {
   "cell_type": "code",
   "execution_count": null,
   "metadata": {},
   "outputs": [],
   "source": [
    "print(\"Numeros impares: \")\n",
    "for i in range (1,1000,2):\n",
    "  print(i)\n",
    "  i+=1\n",
    "print(\"Numeros pares: \")\n",
    "for i in range (2,1001,2):\n",
    "  print(i)\n",
    "  i+=1"
   ]
  },
  {
   "cell_type": "markdown",
   "metadata": {},
   "source": [
    ">3.Imprimir los números pares en forma descendente hasta 2 que son menores o iguales a un número natural n ≥ 2 dado"
   ]
  },
  {
   "cell_type": "code",
   "execution_count": null,
   "metadata": {},
   "outputs": [],
   "source": [
    "n : int = int(input(\"Numero mayor o igual a 2: \")) \n",
    "for i in range (0,n+1,2):\n",
    "  print(i)\n",
    "  i+=1"
   ]
  },
  {
   "cell_type": "markdown",
   "metadata": {},
   "source": [
    ">4.Imprimir los números de 1 hasta un número natural n dado, cada uno con su respectivo factorial\n"
   ]
  },
  {
   "cell_type": "code",
   "execution_count": null,
   "metadata": {},
   "outputs": [],
   "source": [
    "n : int =int(input(\"Ingrese numero: \"))\n",
    "factorial : int = 1\n",
    "for i in range (1,n+1):\n",
    "    factorial *= i\t\n",
    "    print(f\"el factorial de: {i} es {factorial}\")"
   ]
  },
  {
   "cell_type": "markdown",
   "metadata": {},
   "source": [
    ">5.Calcular el valor de 2 elevado a la potencia n usando ciclos for."
   ]
  },
  {
   "cell_type": "code",
   "execution_count": null,
   "metadata": {},
   "outputs": [],
   "source": [
    "n : int = int(input(\"Ingrese numero: \"))\n",
    "potencia : int\n",
    "for i in range (1,n+1):\n",
    "  potencia = 2**i\n",
    "print(f\"La potencia de 2 elevado a {n} es {potencia}\")"
   ]
  },
  {
   "cell_type": "markdown",
   "metadata": {},
   "source": [
    ">6. Leer un número natural n, leer otro dato de tipo real x y calcular x^n usando ciclos for. Disclaimer: Trate de no utilizar el operador de potencia (**).\n"
   ]
  },
  {
   "cell_type": "code",
   "execution_count": null,
   "metadata": {},
   "outputs": [],
   "source": [
    "x : float = float(input(\"Numero real x: \"))\n",
    "n : int = int(input(\"Numero natural n: \"))\n",
    "potencia : float"
   ]
  },
  {
   "cell_type": "markdown",
   "metadata": {},
   "source": [
    ">7. Diseñe un programa que muestre las tablas de multiplicar del 1 al 9."
   ]
  },
  {
   "cell_type": "code",
   "execution_count": null,
   "metadata": {},
   "outputs": [],
   "source": [
    "n : int = 1\n",
    "mult : int \n",
    "while n>=1 and n<=9 :\n",
    "  for i in range (1,11):\n",
    "    mult = i*n\n",
    "    print(f\"{n}x{i} = {mult}\")\n",
    "  n+=1\n",
    "  if n == 10 :break\n",
    "  print(f\"Tabla del {n}: \")"
   ]
  },
  {
   "cell_type": "markdown",
   "metadata": {},
   "source": [
    ">8.Diseñar una función que permita calcular una aproximación de la función exponencial alrededor de 0 para cualquier valor x (real), utilizando los primeros n términos de la serie de Maclaurin. Nota: use math para traer la función exponencial y mostrar la diferencia entre el valor real y la aproximación.\n"
   ]
  },
  {
   "cell_type": "code",
   "execution_count": null,
   "metadata": {},
   "outputs": [],
   "source": [
    "import math\n",
    "x : float = float(input(\"Numero real x: \"))\n",
    "n : int = int(input(\"n terminos de la serie: \"))\n",
    "aprox : float = 0\n",
    "\n",
    "def Factorial (a):\n",
    "  factorial : int = 1\n",
    "  while a > 1 :\n",
    "    factorial *= a\t\n",
    "    a-=1\n",
    "  return factorial\n",
    "\n",
    "for i in range (0,n+1) :\n",
    "  aprox += x**i/Factorial(i)\n",
    "\n",
    "print(f\"la aproximación es {aprox}\")\n",
    "print(f\"el valor real es {math.exp(x)}\")"
   ]
  },
  {
   "cell_type": "markdown",
   "metadata": {},
   "source": [
    ">9.Diseñar una función que permita calcular una aproximación de la función seno alrededor de 0 para cualquier valor x (real), utilizando los primeros n términos de la serie de Maclaurin. Nota: use math para traer la función seno y mostrar la diferencia entre el valor real y la aproximación.\n"
   ]
  },
  {
   "cell_type": "code",
   "execution_count": null,
   "metadata": {},
   "outputs": [],
   "source": [
    "import math\n",
    "x : float = float(input(\"Numero real x: \"))\n",
    "n : int = int(input(\"n terminos de la serie: \"))\n",
    "aprox : float = 0\n",
    "\n",
    "def Factorial (a):\n",
    "  factorial : int = 1\n",
    "  while a > 1 :\n",
    "    factorial *= a\t\n",
    "    a-=1\n",
    "  return factorial\n",
    "\n",
    "for i in range (0,n+1):\n",
    "  a=2*i+1\n",
    "  aprox += ((-1) ** i) * (x **a) / (Factorial(a))\n",
    "\n",
    "print(aprox)\n",
    "print(math.sin(math.radians(x)))"
   ]
  },
  {
   "cell_type": "markdown",
   "metadata": {},
   "source": [
    ">10.Diseñar una función que permita calcular una aproximación de la función arcotangente alrededor de 0 para cualquier valor x en el rango [-1, 1], utilizando los primeros n términos de la serie de Maclaurin. Nota: use math para traer la función arctan y mostrar la diferencia entre el valor real y la aproximación.\n"
   ]
  },
  {
   "cell_type": "code",
   "execution_count": null,
   "metadata": {},
   "outputs": [],
   "source": [
    "import math\n",
    "x : float = float(input(\"Numero real x: \"))\n",
    "n : int = int(input(\"n terminos de la serie: \"))\n",
    "aprox : float = 0\n",
    "\n",
    "\n",
    "for i in range (0,n+1):\n",
    "  a=2*i+1\n",
    "  aprox += ((-1) ** i) * ((x **a) / a)\n",
    "\n",
    "print(aprox)\n",
    "print(math.sin(math.radians(x)))"
   ]
  }
 ],
 "metadata": {
  "kernelspec": {
   "display_name": "Python 3",
   "language": "python",
   "name": "python3"
  },
  "language_info": {
   "codemirror_mode": {
    "name": "ipython",
    "version": 3
   },
   "file_extension": ".py",
   "mimetype": "text/x-python",
   "name": "python",
   "nbconvert_exporter": "python",
   "pygments_lexer": "ipython3",
   "version": "3.11.5"
  }
 },
 "nbformat": 4,
 "nbformat_minor": 2
}
